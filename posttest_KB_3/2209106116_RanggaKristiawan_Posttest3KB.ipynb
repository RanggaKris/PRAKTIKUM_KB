{
  "nbformat": 4,
  "nbformat_minor": 0,
  "metadata": {
    "colab": {
      "provenance": [],
      "toc_visible": true,
      "gpuType": "T4"
    },
    "kernelspec": {
      "name": "python3",
      "display_name": "Python 3"
    },
    "language_info": {
      "name": "python"
    },
    "accelerator": "GPU"
  },
  "cells": [
    {
      "cell_type": "code",
      "execution_count": 26,
      "metadata": {
        "colab": {
          "base_uri": "https://localhost:8080/",
          "height": 206
        },
        "id": "ToC6cMQhWzIV",
        "outputId": "e630fb04-a52a-4588-d657-9841b61ce2b1"
      },
      "outputs": [
        {
          "output_type": "execute_result",
          "data": {
            "text/plain": [
              "                        name   mpg  cylinders  displacement  horsepower  \\\n",
              "0  chevrolet chevelle malibu  18.0          8         307.0       130.0   \n",
              "1          buick skylark 320  15.0          8         350.0       165.0   \n",
              "2         plymouth satellite  18.0          8         318.0       150.0   \n",
              "3              amc rebel sst  16.0          8         304.0       150.0   \n",
              "4                ford torino  17.0          8         302.0       140.0   \n",
              "\n",
              "   weight  acceleration  model_year origin  \n",
              "0    3504          12.0          70    usa  \n",
              "1    3693          11.5          70    usa  \n",
              "2    3436          11.0          70    usa  \n",
              "3    3433          12.0          70    usa  \n",
              "4    3449          10.5          70    usa  "
            ],
            "text/html": [
              "\n",
              "  <div id=\"df-9df6aed0-9297-49fd-996f-33bfaff692af\" class=\"colab-df-container\">\n",
              "    <div>\n",
              "<style scoped>\n",
              "    .dataframe tbody tr th:only-of-type {\n",
              "        vertical-align: middle;\n",
              "    }\n",
              "\n",
              "    .dataframe tbody tr th {\n",
              "        vertical-align: top;\n",
              "    }\n",
              "\n",
              "    .dataframe thead th {\n",
              "        text-align: right;\n",
              "    }\n",
              "</style>\n",
              "<table border=\"1\" class=\"dataframe\">\n",
              "  <thead>\n",
              "    <tr style=\"text-align: right;\">\n",
              "      <th></th>\n",
              "      <th>name</th>\n",
              "      <th>mpg</th>\n",
              "      <th>cylinders</th>\n",
              "      <th>displacement</th>\n",
              "      <th>horsepower</th>\n",
              "      <th>weight</th>\n",
              "      <th>acceleration</th>\n",
              "      <th>model_year</th>\n",
              "      <th>origin</th>\n",
              "    </tr>\n",
              "  </thead>\n",
              "  <tbody>\n",
              "    <tr>\n",
              "      <th>0</th>\n",
              "      <td>chevrolet chevelle malibu</td>\n",
              "      <td>18.0</td>\n",
              "      <td>8</td>\n",
              "      <td>307.0</td>\n",
              "      <td>130.0</td>\n",
              "      <td>3504</td>\n",
              "      <td>12.0</td>\n",
              "      <td>70</td>\n",
              "      <td>usa</td>\n",
              "    </tr>\n",
              "    <tr>\n",
              "      <th>1</th>\n",
              "      <td>buick skylark 320</td>\n",
              "      <td>15.0</td>\n",
              "      <td>8</td>\n",
              "      <td>350.0</td>\n",
              "      <td>165.0</td>\n",
              "      <td>3693</td>\n",
              "      <td>11.5</td>\n",
              "      <td>70</td>\n",
              "      <td>usa</td>\n",
              "    </tr>\n",
              "    <tr>\n",
              "      <th>2</th>\n",
              "      <td>plymouth satellite</td>\n",
              "      <td>18.0</td>\n",
              "      <td>8</td>\n",
              "      <td>318.0</td>\n",
              "      <td>150.0</td>\n",
              "      <td>3436</td>\n",
              "      <td>11.0</td>\n",
              "      <td>70</td>\n",
              "      <td>usa</td>\n",
              "    </tr>\n",
              "    <tr>\n",
              "      <th>3</th>\n",
              "      <td>amc rebel sst</td>\n",
              "      <td>16.0</td>\n",
              "      <td>8</td>\n",
              "      <td>304.0</td>\n",
              "      <td>150.0</td>\n",
              "      <td>3433</td>\n",
              "      <td>12.0</td>\n",
              "      <td>70</td>\n",
              "      <td>usa</td>\n",
              "    </tr>\n",
              "    <tr>\n",
              "      <th>4</th>\n",
              "      <td>ford torino</td>\n",
              "      <td>17.0</td>\n",
              "      <td>8</td>\n",
              "      <td>302.0</td>\n",
              "      <td>140.0</td>\n",
              "      <td>3449</td>\n",
              "      <td>10.5</td>\n",
              "      <td>70</td>\n",
              "      <td>usa</td>\n",
              "    </tr>\n",
              "  </tbody>\n",
              "</table>\n",
              "</div>\n",
              "    <div class=\"colab-df-buttons\">\n",
              "\n",
              "  <div class=\"colab-df-container\">\n",
              "    <button class=\"colab-df-convert\" onclick=\"convertToInteractive('df-9df6aed0-9297-49fd-996f-33bfaff692af')\"\n",
              "            title=\"Convert this dataframe to an interactive table.\"\n",
              "            style=\"display:none;\">\n",
              "\n",
              "  <svg xmlns=\"http://www.w3.org/2000/svg\" height=\"24px\" viewBox=\"0 -960 960 960\">\n",
              "    <path d=\"M120-120v-720h720v720H120Zm60-500h600v-160H180v160Zm220 220h160v-160H400v160Zm0 220h160v-160H400v160ZM180-400h160v-160H180v160Zm440 0h160v-160H620v160ZM180-180h160v-160H180v160Zm440 0h160v-160H620v160Z\"/>\n",
              "  </svg>\n",
              "    </button>\n",
              "\n",
              "  <style>\n",
              "    .colab-df-container {\n",
              "      display:flex;\n",
              "      gap: 12px;\n",
              "    }\n",
              "\n",
              "    .colab-df-convert {\n",
              "      background-color: #E8F0FE;\n",
              "      border: none;\n",
              "      border-radius: 50%;\n",
              "      cursor: pointer;\n",
              "      display: none;\n",
              "      fill: #1967D2;\n",
              "      height: 32px;\n",
              "      padding: 0 0 0 0;\n",
              "      width: 32px;\n",
              "    }\n",
              "\n",
              "    .colab-df-convert:hover {\n",
              "      background-color: #E2EBFA;\n",
              "      box-shadow: 0px 1px 2px rgba(60, 64, 67, 0.3), 0px 1px 3px 1px rgba(60, 64, 67, 0.15);\n",
              "      fill: #174EA6;\n",
              "    }\n",
              "\n",
              "    .colab-df-buttons div {\n",
              "      margin-bottom: 4px;\n",
              "    }\n",
              "\n",
              "    [theme=dark] .colab-df-convert {\n",
              "      background-color: #3B4455;\n",
              "      fill: #D2E3FC;\n",
              "    }\n",
              "\n",
              "    [theme=dark] .colab-df-convert:hover {\n",
              "      background-color: #434B5C;\n",
              "      box-shadow: 0px 1px 3px 1px rgba(0, 0, 0, 0.15);\n",
              "      filter: drop-shadow(0px 1px 2px rgba(0, 0, 0, 0.3));\n",
              "      fill: #FFFFFF;\n",
              "    }\n",
              "  </style>\n",
              "\n",
              "    <script>\n",
              "      const buttonEl =\n",
              "        document.querySelector('#df-9df6aed0-9297-49fd-996f-33bfaff692af button.colab-df-convert');\n",
              "      buttonEl.style.display =\n",
              "        google.colab.kernel.accessAllowed ? 'block' : 'none';\n",
              "\n",
              "      async function convertToInteractive(key) {\n",
              "        const element = document.querySelector('#df-9df6aed0-9297-49fd-996f-33bfaff692af');\n",
              "        const dataTable =\n",
              "          await google.colab.kernel.invokeFunction('convertToInteractive',\n",
              "                                                    [key], {});\n",
              "        if (!dataTable) return;\n",
              "\n",
              "        const docLinkHtml = 'Like what you see? Visit the ' +\n",
              "          '<a target=\"_blank\" href=https://colab.research.google.com/notebooks/data_table.ipynb>data table notebook</a>'\n",
              "          + ' to learn more about interactive tables.';\n",
              "        element.innerHTML = '';\n",
              "        dataTable['output_type'] = 'display_data';\n",
              "        await google.colab.output.renderOutput(dataTable, element);\n",
              "        const docLink = document.createElement('div');\n",
              "        docLink.innerHTML = docLinkHtml;\n",
              "        element.appendChild(docLink);\n",
              "      }\n",
              "    </script>\n",
              "  </div>\n",
              "\n",
              "\n",
              "<div id=\"df-35cf9d7c-28e0-44ef-82d9-b341aa9706af\">\n",
              "  <button class=\"colab-df-quickchart\" onclick=\"quickchart('df-35cf9d7c-28e0-44ef-82d9-b341aa9706af')\"\n",
              "            title=\"Suggest charts\"\n",
              "            style=\"display:none;\">\n",
              "\n",
              "<svg xmlns=\"http://www.w3.org/2000/svg\" height=\"24px\"viewBox=\"0 0 24 24\"\n",
              "     width=\"24px\">\n",
              "    <g>\n",
              "        <path d=\"M19 3H5c-1.1 0-2 .9-2 2v14c0 1.1.9 2 2 2h14c1.1 0 2-.9 2-2V5c0-1.1-.9-2-2-2zM9 17H7v-7h2v7zm4 0h-2V7h2v10zm4 0h-2v-4h2v4z\"/>\n",
              "    </g>\n",
              "</svg>\n",
              "  </button>\n",
              "\n",
              "<style>\n",
              "  .colab-df-quickchart {\n",
              "      --bg-color: #E8F0FE;\n",
              "      --fill-color: #1967D2;\n",
              "      --hover-bg-color: #E2EBFA;\n",
              "      --hover-fill-color: #174EA6;\n",
              "      --disabled-fill-color: #AAA;\n",
              "      --disabled-bg-color: #DDD;\n",
              "  }\n",
              "\n",
              "  [theme=dark] .colab-df-quickchart {\n",
              "      --bg-color: #3B4455;\n",
              "      --fill-color: #D2E3FC;\n",
              "      --hover-bg-color: #434B5C;\n",
              "      --hover-fill-color: #FFFFFF;\n",
              "      --disabled-bg-color: #3B4455;\n",
              "      --disabled-fill-color: #666;\n",
              "  }\n",
              "\n",
              "  .colab-df-quickchart {\n",
              "    background-color: var(--bg-color);\n",
              "    border: none;\n",
              "    border-radius: 50%;\n",
              "    cursor: pointer;\n",
              "    display: none;\n",
              "    fill: var(--fill-color);\n",
              "    height: 32px;\n",
              "    padding: 0;\n",
              "    width: 32px;\n",
              "  }\n",
              "\n",
              "  .colab-df-quickchart:hover {\n",
              "    background-color: var(--hover-bg-color);\n",
              "    box-shadow: 0 1px 2px rgba(60, 64, 67, 0.3), 0 1px 3px 1px rgba(60, 64, 67, 0.15);\n",
              "    fill: var(--button-hover-fill-color);\n",
              "  }\n",
              "\n",
              "  .colab-df-quickchart-complete:disabled,\n",
              "  .colab-df-quickchart-complete:disabled:hover {\n",
              "    background-color: var(--disabled-bg-color);\n",
              "    fill: var(--disabled-fill-color);\n",
              "    box-shadow: none;\n",
              "  }\n",
              "\n",
              "  .colab-df-spinner {\n",
              "    border: 2px solid var(--fill-color);\n",
              "    border-color: transparent;\n",
              "    border-bottom-color: var(--fill-color);\n",
              "    animation:\n",
              "      spin 1s steps(1) infinite;\n",
              "  }\n",
              "\n",
              "  @keyframes spin {\n",
              "    0% {\n",
              "      border-color: transparent;\n",
              "      border-bottom-color: var(--fill-color);\n",
              "      border-left-color: var(--fill-color);\n",
              "    }\n",
              "    20% {\n",
              "      border-color: transparent;\n",
              "      border-left-color: var(--fill-color);\n",
              "      border-top-color: var(--fill-color);\n",
              "    }\n",
              "    30% {\n",
              "      border-color: transparent;\n",
              "      border-left-color: var(--fill-color);\n",
              "      border-top-color: var(--fill-color);\n",
              "      border-right-color: var(--fill-color);\n",
              "    }\n",
              "    40% {\n",
              "      border-color: transparent;\n",
              "      border-right-color: var(--fill-color);\n",
              "      border-top-color: var(--fill-color);\n",
              "    }\n",
              "    60% {\n",
              "      border-color: transparent;\n",
              "      border-right-color: var(--fill-color);\n",
              "    }\n",
              "    80% {\n",
              "      border-color: transparent;\n",
              "      border-right-color: var(--fill-color);\n",
              "      border-bottom-color: var(--fill-color);\n",
              "    }\n",
              "    90% {\n",
              "      border-color: transparent;\n",
              "      border-bottom-color: var(--fill-color);\n",
              "    }\n",
              "  }\n",
              "</style>\n",
              "\n",
              "  <script>\n",
              "    async function quickchart(key) {\n",
              "      const quickchartButtonEl =\n",
              "        document.querySelector('#' + key + ' button');\n",
              "      quickchartButtonEl.disabled = true;  // To prevent multiple clicks.\n",
              "      quickchartButtonEl.classList.add('colab-df-spinner');\n",
              "      try {\n",
              "        const charts = await google.colab.kernel.invokeFunction(\n",
              "            'suggestCharts', [key], {});\n",
              "      } catch (error) {\n",
              "        console.error('Error during call to suggestCharts:', error);\n",
              "      }\n",
              "      quickchartButtonEl.classList.remove('colab-df-spinner');\n",
              "      quickchartButtonEl.classList.add('colab-df-quickchart-complete');\n",
              "    }\n",
              "    (() => {\n",
              "      let quickchartButtonEl =\n",
              "        document.querySelector('#df-35cf9d7c-28e0-44ef-82d9-b341aa9706af button');\n",
              "      quickchartButtonEl.style.display =\n",
              "        google.colab.kernel.accessAllowed ? 'block' : 'none';\n",
              "    })();\n",
              "  </script>\n",
              "</div>\n",
              "\n",
              "    </div>\n",
              "  </div>\n"
            ],
            "application/vnd.google.colaboratory.intrinsic+json": {
              "type": "dataframe",
              "variable_name": "data",
              "summary": "{\n  \"name\": \"data\",\n  \"rows\": 398,\n  \"fields\": [\n    {\n      \"column\": \"name\",\n      \"properties\": {\n        \"dtype\": \"string\",\n        \"num_unique_values\": 305,\n        \"samples\": [\n          \"mazda rx-4\",\n          \"ford f108\",\n          \"buick century luxus (sw)\"\n        ],\n        \"semantic_type\": \"\",\n        \"description\": \"\"\n      }\n    },\n    {\n      \"column\": \"mpg\",\n      \"properties\": {\n        \"dtype\": \"number\",\n        \"std\": 7.815984312565782,\n        \"min\": 9.0,\n        \"max\": 46.6,\n        \"num_unique_values\": 129,\n        \"samples\": [\n          17.7,\n          30.5,\n          30.0\n        ],\n        \"semantic_type\": \"\",\n        \"description\": \"\"\n      }\n    },\n    {\n      \"column\": \"cylinders\",\n      \"properties\": {\n        \"dtype\": \"number\",\n        \"std\": 1,\n        \"min\": 3,\n        \"max\": 8,\n        \"num_unique_values\": 5,\n        \"samples\": [\n          4,\n          5,\n          6\n        ],\n        \"semantic_type\": \"\",\n        \"description\": \"\"\n      }\n    },\n    {\n      \"column\": \"displacement\",\n      \"properties\": {\n        \"dtype\": \"number\",\n        \"std\": 104.26983817119591,\n        \"min\": 68.0,\n        \"max\": 455.0,\n        \"num_unique_values\": 82,\n        \"samples\": [\n          122.0,\n          307.0,\n          360.0\n        ],\n        \"semantic_type\": \"\",\n        \"description\": \"\"\n      }\n    },\n    {\n      \"column\": \"horsepower\",\n      \"properties\": {\n        \"dtype\": \"number\",\n        \"std\": 38.49115993282849,\n        \"min\": 46.0,\n        \"max\": 230.0,\n        \"num_unique_values\": 93,\n        \"samples\": [\n          92.0,\n          100.0,\n          52.0\n        ],\n        \"semantic_type\": \"\",\n        \"description\": \"\"\n      }\n    },\n    {\n      \"column\": \"weight\",\n      \"properties\": {\n        \"dtype\": \"number\",\n        \"std\": 846,\n        \"min\": 1613,\n        \"max\": 5140,\n        \"num_unique_values\": 351,\n        \"samples\": [\n          3730,\n          1995,\n          2215\n        ],\n        \"semantic_type\": \"\",\n        \"description\": \"\"\n      }\n    },\n    {\n      \"column\": \"acceleration\",\n      \"properties\": {\n        \"dtype\": \"number\",\n        \"std\": 2.757688929812676,\n        \"min\": 8.0,\n        \"max\": 24.8,\n        \"num_unique_values\": 95,\n        \"samples\": [\n          14.7,\n          18.0,\n          14.3\n        ],\n        \"semantic_type\": \"\",\n        \"description\": \"\"\n      }\n    },\n    {\n      \"column\": \"model_year\",\n      \"properties\": {\n        \"dtype\": \"number\",\n        \"std\": 3,\n        \"min\": 70,\n        \"max\": 82,\n        \"num_unique_values\": 13,\n        \"samples\": [\n          81,\n          79,\n          70\n        ],\n        \"semantic_type\": \"\",\n        \"description\": \"\"\n      }\n    },\n    {\n      \"column\": \"origin\",\n      \"properties\": {\n        \"dtype\": \"category\",\n        \"num_unique_values\": 3,\n        \"samples\": [\n          \"usa\",\n          \"japan\",\n          \"europe\"\n        ],\n        \"semantic_type\": \"\",\n        \"description\": \"\"\n      }\n    }\n  ]\n}"
            }
          },
          "metadata": {},
          "execution_count": 26
        }
      ],
      "source": [
        "import pandas as pd\n",
        "import numpy as np\n",
        "import matplotlib.pyplot as plt\n",
        "import seaborn as sns\n",
        "from sklearn.preprocessing import MinMaxScaler\n",
        "from sklearn.model_selection import train_test_split\n",
        "\n",
        "data = pd.read_csv('Automobile.csv')\n",
        "\n",
        "data.head()"
      ]
    },
    {
      "cell_type": "markdown",
      "source": [
        "# 1. Data Cleaning\n",
        "### Mengganti value yang hilang di kolom horsepower dengan median"
      ],
      "metadata": {
        "id": "XN2D-TsAX_UV"
      }
    },
    {
      "cell_type": "code",
      "source": [
        "data['horsepower'].fillna(data['horsepower'].median(), inplace=True)"
      ],
      "metadata": {
        "id": "qgf7bDneYSjz"
      },
      "execution_count": 27,
      "outputs": []
    },
    {
      "cell_type": "markdown",
      "source": [
        "### Handling duplicate value"
      ],
      "metadata": {
        "id": "prFRnlYiY1cg"
      }
    },
    {
      "cell_type": "code",
      "source": [
        "print(data.duplicated().sum())\n",
        "data = data.drop_duplicates()"
      ],
      "metadata": {
        "colab": {
          "base_uri": "https://localhost:8080/"
        },
        "id": "ZKDzwXd3Y8zz",
        "outputId": "7a499a2b-4da3-4b6a-e053-98dc023d7a92"
      },
      "execution_count": 28,
      "outputs": [
        {
          "output_type": "stream",
          "name": "stdout",
          "text": [
            "0\n"
          ]
        }
      ]
    },
    {
      "cell_type": "markdown",
      "source": [
        "### Handling outlier"
      ],
      "metadata": {
        "id": "kogFpOdLZJNJ"
      }
    },
    {
      "cell_type": "code",
      "source": [
        "kolom_num = data.select_dtypes(include=[np.number]) # Memilih kolom numerik\n",
        "\n",
        "Q1 = kolom_num.quantile(0.25)# Menggunakan IQR untuk mendeteksi outlier\n",
        "Q3 = kolom_num.quantile(0.75)\n",
        "IQR = Q3 - Q1\n",
        "\n",
        "# Menghapus outlier\n",
        "outlier_condition = (kolom_num < (Q1 - 1.5 * IQR)) | (kolom_num > (Q3 + 1.5 * IQR))\n",
        "data_cleaned = data[~outlier_condition.any(axis=1)]\n",
        "\n",
        "print(data_cleaned) # Menampilkan data yang sudah di clean"
      ],
      "metadata": {
        "colab": {
          "base_uri": "https://localhost:8080/"
        },
        "id": "NKcL6lzpZNMF",
        "outputId": "3bb5664b-ad0e-4167-ed9d-35e0592259af"
      },
      "execution_count": 30,
      "outputs": [
        {
          "output_type": "stream",
          "name": "stdout",
          "text": [
            "                          name   mpg  cylinders  displacement  horsepower  \\\n",
            "0    chevrolet chevelle malibu  18.0          8         307.0       130.0   \n",
            "1            buick skylark 320  15.0          8         350.0       165.0   \n",
            "2           plymouth satellite  18.0          8         318.0       150.0   \n",
            "3                amc rebel sst  16.0          8         304.0       150.0   \n",
            "4                  ford torino  17.0          8         302.0       140.0   \n",
            "..                         ...   ...        ...           ...         ...   \n",
            "392           chevrolet camaro  27.0          4         151.0        90.0   \n",
            "393            ford mustang gl  27.0          4         140.0        86.0   \n",
            "395              dodge rampage  32.0          4         135.0        84.0   \n",
            "396                ford ranger  28.0          4         120.0        79.0   \n",
            "397                 chevy s-10  31.0          4         119.0        82.0   \n",
            "\n",
            "     weight  acceleration  model_year origin  \n",
            "0      3504          12.0          70    usa  \n",
            "1      3693          11.5          70    usa  \n",
            "2      3436          11.0          70    usa  \n",
            "3      3433          12.0          70    usa  \n",
            "4      3449          10.5          70    usa  \n",
            "..      ...           ...         ...    ...  \n",
            "392    2950          17.3          82    usa  \n",
            "393    2790          15.6          82    usa  \n",
            "395    2295          11.6          82    usa  \n",
            "396    2625          18.6          82    usa  \n",
            "397    2720          19.4          82    usa  \n",
            "\n",
            "[380 rows x 9 columns]\n"
          ]
        }
      ]
    },
    {
      "cell_type": "markdown",
      "source": [
        "# 2. Menampilkan data yang sudah di clean"
      ],
      "metadata": {
        "id": "40wo3PoHbF4D"
      }
    },
    {
      "cell_type": "code",
      "source": [
        "kolom_num = ['mpg', 'cylinders', 'displacement', 'horsepower', 'weight', 'acceleration'] # Menentukan kolom numerik yang kita punya\n",
        "\n",
        "# Normalisasi menggunakan MinMaxScaler\n",
        "scaler = MinMaxScaler()\n",
        "data[kolom_num] = scaler.fit_transform(data[kolom_num])\n",
        "\n",
        "print(data.head()) # Menampilkan beberapa data"
      ],
      "metadata": {
        "colab": {
          "base_uri": "https://localhost:8080/"
        },
        "id": "RfPshAYgbOae",
        "outputId": "b4b593b9-aebf-4650-c735-08bea052f1c2"
      },
      "execution_count": 31,
      "outputs": [
        {
          "output_type": "stream",
          "name": "stdout",
          "text": [
            "                        name       mpg  cylinders  displacement  horsepower  \\\n",
            "0  chevrolet chevelle malibu  0.239362        1.0      0.617571    0.456522   \n",
            "1          buick skylark 320  0.159574        1.0      0.728682    0.646739   \n",
            "2         plymouth satellite  0.239362        1.0      0.645995    0.565217   \n",
            "3              amc rebel sst  0.186170        1.0      0.609819    0.565217   \n",
            "4                ford torino  0.212766        1.0      0.604651    0.510870   \n",
            "\n",
            "     weight  acceleration  model_year origin  \n",
            "0  0.536150      0.238095          70    usa  \n",
            "1  0.589736      0.208333          70    usa  \n",
            "2  0.516870      0.178571          70    usa  \n",
            "3  0.516019      0.238095          70    usa  \n",
            "4  0.520556      0.148810          70    usa  \n"
          ]
        }
      ]
    },
    {
      "cell_type": "markdown",
      "source": [
        "# 3. Encoding kolom kategorikal"
      ],
      "metadata": {
        "id": "qGOki7GZcTCQ"
      }
    },
    {
      "cell_type": "code",
      "source": [
        "data = pd.get_dummies(data, columns=['origin'], drop_first=True) # Menggunakan One Hot Encoding untuk kolom 'origin' kita\n",
        "print(data.head()) # Menampilkan beberapa data kita setelah One hot"
      ],
      "metadata": {
        "colab": {
          "base_uri": "https://localhost:8080/"
        },
        "id": "PfV74m1EcVIz",
        "outputId": "7f18b128-ebf8-4cca-8624-82dc69b403f0"
      },
      "execution_count": 32,
      "outputs": [
        {
          "output_type": "stream",
          "name": "stdout",
          "text": [
            "                        name       mpg  cylinders  displacement  horsepower  \\\n",
            "0  chevrolet chevelle malibu  0.239362        1.0      0.617571    0.456522   \n",
            "1          buick skylark 320  0.159574        1.0      0.728682    0.646739   \n",
            "2         plymouth satellite  0.239362        1.0      0.645995    0.565217   \n",
            "3              amc rebel sst  0.186170        1.0      0.609819    0.565217   \n",
            "4                ford torino  0.212766        1.0      0.604651    0.510870   \n",
            "\n",
            "     weight  acceleration  model_year  origin_japan  origin_usa  \n",
            "0  0.536150      0.238095          70         False        True  \n",
            "1  0.589736      0.208333          70         False        True  \n",
            "2  0.516870      0.178571          70         False        True  \n",
            "3  0.516019      0.238095          70         False        True  \n",
            "4  0.520556      0.148810          70         False        True  \n"
          ]
        }
      ]
    },
    {
      "cell_type": "markdown",
      "source": [
        "# 4. Feature engineering (minimal 1 feature baru)\n",
        "###  fitur baru kita adalah power to weight ratio yang membandingkan horsepower dan berat mobil yang kita miliki."
      ],
      "metadata": {
        "id": "Hccj9i9tctUE"
      }
    },
    {
      "cell_type": "code",
      "source": [
        "data['power_to_weight_ratio'] = data['horsepower'] / data['weight'] # Fitur baru 'power_to_weight_ratio'\n",
        "print(data[['horsepower', 'weight', 'power_to_weight_ratio']].head()) # Menampilkan datanya"
      ],
      "metadata": {
        "colab": {
          "base_uri": "https://localhost:8080/"
        },
        "id": "D8I215encvFj",
        "outputId": "1b55e492-26b4-4644-ef04-5fa9db2fddd9"
      },
      "execution_count": 33,
      "outputs": [
        {
          "output_type": "stream",
          "name": "stdout",
          "text": [
            "   horsepower    weight  power_to_weight_ratio\n",
            "0    0.456522  0.536150               0.851482\n",
            "1    0.646739  0.589736               1.096658\n",
            "2    0.565217  0.516870               1.093539\n",
            "3    0.565217  0.516019               1.095342\n",
            "4    0.510870  0.520556               0.981393\n"
          ]
        }
      ]
    },
    {
      "cell_type": "markdown",
      "source": [
        "# 5. Splitting data ke dalam data training & data testing"
      ],
      "metadata": {
        "id": "WfGtCgEeeEOr"
      }
    },
    {
      "cell_type": "code",
      "source": [
        "# Memisahkan fitur dan targetnya\n",
        "X = data.drop(columns=['name'])\n",
        "y = data['mpg']\n",
        "\n",
        "X_train, X_test, y_train, y_test = train_test_split(X, y, test_size=0.4, random_state=42) # Membagi data yang kita punya\n",
        "\n",
        "# Menampilkan training\n",
        "print(\"Data Training (X_train):\")\n",
        "print(X_train.head())\n",
        "\n",
        "print(\"\\nTarget Training (y_train):\")\n",
        "print(y_train.head())\n",
        "\n",
        "# Menampilkan testing\n",
        "print(\"\\nData Testing (X_test):\")\n",
        "print(X_test.head())\n",
        "\n",
        "print(\"\\nTarget Testing (y_test):\")\n",
        "print(y_test.head())"
      ],
      "metadata": {
        "colab": {
          "base_uri": "https://localhost:8080/"
        },
        "id": "2g82bpuIeDOs",
        "outputId": "21b5ad5f-0667-4818-acaa-e2d0933e3f91"
      },
      "execution_count": 34,
      "outputs": [
        {
          "output_type": "stream",
          "name": "stdout",
          "text": [
            "Data Training (X_train):\n",
            "          mpg  cylinders  displacement  horsepower    weight  acceleration  \\\n",
            "299  0.484043        0.2      0.188630    0.135870  0.447122      1.000000   \n",
            "211  0.199468        0.6      0.258398    0.402174  0.625744      0.517857   \n",
            "167  0.531915        0.2      0.074935    0.157609  0.158208      0.476190   \n",
            "165  0.292553        1.0      0.501292    0.347826  0.455912      0.327381   \n",
            "89   0.159574        1.0      0.645995    0.565217  0.613553      0.267857   \n",
            "\n",
            "     model_year  origin_japan  origin_usa  power_to_weight_ratio  \n",
            "299          79         False       False               0.303876  \n",
            "211          76         False       False               0.642713  \n",
            "167          75          True       False               0.996211  \n",
            "165          75         False        True               0.762925  \n",
            "89           73         False        True               0.921221  \n",
            "\n",
            "Target Training (y_train):\n",
            "299    0.484043\n",
            "211    0.199468\n",
            "167    0.531915\n",
            "165    0.292553\n",
            "89     0.159574\n",
            "Name: mpg, dtype: float64\n",
            "\n",
            "Data Testing (X_test):\n",
            "          mpg  cylinders  displacement  horsepower    weight  acceleration  \\\n",
            "198  0.638298        0.2      0.059432    0.038043  0.051602      0.559524   \n",
            "396  0.505319        0.2      0.134367    0.179348  0.286929      0.630952   \n",
            "33   0.265957        0.6      0.423773    0.293478  0.289481      0.297619   \n",
            "208  0.106383        1.0      0.645995    0.565217  0.659768      0.309524   \n",
            "93   0.132979        1.0      0.645995    0.565217  0.743975      0.386905   \n",
            "\n",
            "     model_year  origin_japan  origin_usa  power_to_weight_ratio  \n",
            "198          76          True       False               0.737249  \n",
            "396          82         False        True               0.625059  \n",
            "33           71         False        True               1.013808  \n",
            "208          76         False        True               0.856692  \n",
            "93           73         False        True               0.759726  \n",
            "\n",
            "Target Testing (y_test):\n",
            "198    0.638298\n",
            "396    0.505319\n",
            "33     0.265957\n",
            "208    0.106383\n",
            "93     0.132979\n",
            "Name: mpg, dtype: float64\n"
          ]
        }
      ]
    }
  ]
}